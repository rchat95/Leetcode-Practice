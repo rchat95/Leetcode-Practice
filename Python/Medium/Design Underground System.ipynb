{
 "cells": [
  {
   "cell_type": "code",
   "execution_count": 9,
   "metadata": {},
   "outputs": [],
   "source": [
    "class UndergroundSystem:  \n",
    "    checkInTimes = {}\n",
    "    checkOutTimes = {}\n",
    "    def __init__(self):\n",
    "        self.checkInTimes = UndergroundSystem.checkInTimes\n",
    "        self.checkOutTimes = UndergroundSystem.checkOutTimes\n",
    "\n",
    "    def checkIn(self, id: int, stationName: str, t: int) -> None:\n",
    "        self.checkInTimes[id] = (stationName, t)        \n",
    "\n",
    "    def checkOut(self, id: int, stationName: str, t: int) -> None:\n",
    "        self.checkOutTimes[id] = (stationName, t)        \n",
    "\n",
    "    def getAverageTime(self, startStation: str, endStation: str) -> float:\n",
    "        averageTime = 0\n",
    "        commuteTimes = []\n",
    "        \n",
    "        for id in self.checkInTimes:\n",
    "            endTime = 0\n",
    "            startTime = 0\n",
    "            if(self.checkInTimes.get(id)) != None:\n",
    "                if(self.checkInTimes[id][0] == startStation):\n",
    "                    startTime = self.checkInTimes[id][1]\n",
    "                    print(\"Start time for customer \" + str(id) + \" from startStation \" + startStation + \" = \" + str(startTime))\n",
    "            if(self.checkOutTimes.get(id) != None):\n",
    "                if (self.checkOutTimes[id][0] == endStation):\n",
    "                    endTime = self.checkOutTimes[id][1]\n",
    "                    print(\"End time for customer \" + str(id) + \" from endStation \" + endStation + \" = \" + str(endTime))\n",
    "            if (endTime > startTime):\n",
    "                timeTaken = endTime - startTime\n",
    "                print(\"timeTaken = \" + str(timeTaken))\n",
    "                commuteTimes.append(timeTaken)\n",
    "                print(commuteTimes)\n",
    "                \n",
    "        print(\"Commute Times between \" + startStation + \" and \" + endStation + \" are:\")\n",
    "        print(commuteTimes)\n",
    "        averageTime = sum(commuteTimes)/len(commuteTimes)\n",
    "                    \n",
    "        return averageTime\n",
    "        "
   ]
  },
  {
   "cell_type": "code",
   "execution_count": 48,
   "metadata": {},
   "outputs": [],
   "source": [
    "# Your UndergroundSystem object will be instantiated and called as such:\n",
    "# obj = UndergroundSystem()\n",
    "# obj.checkIn(id,stationName,t)\n",
    "# obj.checkOut(id,stationName,t)\n",
    "# param_3 = obj.getAverageTime(startStation,endStation)"
   ]
  },
  {
   "cell_type": "code",
   "execution_count": 10,
   "metadata": {},
   "outputs": [
    {
     "name": "stdout",
     "output_type": "stream",
     "text": [
      "Start time for customer 32 from startStation Paradise = 8\n",
      "End time for customer 32 from endStation Cambridge = 22\n",
      "timeTaken = 14\n",
      "[14]\n",
      "Commute Times between Paradise and Cambridge are:\n",
      "[14]\n",
      "14.0\n",
      "Start time for customer 45 from startStation Leyton = 3\n",
      "End time for customer 45 from endStation Waterloo = 15\n",
      "timeTaken = 12\n",
      "[12]\n",
      "Start time for customer 27 from startStation Leyton = 10\n",
      "End time for customer 27 from endStation Waterloo = 20\n",
      "timeTaken = 10\n",
      "[12, 10]\n",
      "Commute Times between Leyton and Waterloo are:\n",
      "[12, 10]\n",
      "11.0\n"
     ]
    }
   ],
   "source": [
    "obj = UndergroundSystem();\n",
    "obj.checkIn(45, \"Leyton\", 3);\n",
    "obj.checkIn(32, \"Paradise\", 8);\n",
    "obj.checkIn(27, \"Leyton\", 10);\n",
    "obj.checkOut(45, \"Waterloo\", 15); \n",
    "obj.checkOut(27, \"Waterloo\", 20);  \n",
    "obj.checkOut(32, \"Cambridge\", 22); \n",
    "print(obj.getAverageTime(\"Paradise\", \"Cambridge\"))\n",
    "print(obj.getAverageTime(\"Leyton\", \"Waterloo\"))"
   ]
  },
  {
   "cell_type": "code",
   "execution_count": 11,
   "metadata": {},
   "outputs": [
    {
     "data": {
      "text/plain": [
       "{45: ('Leyton', 3), 32: ('Paradise', 8), 27: ('Leyton', 10)}"
      ]
     },
     "execution_count": 11,
     "metadata": {},
     "output_type": "execute_result"
    }
   ],
   "source": [
    "obj.checkInTimes"
   ]
  },
  {
   "cell_type": "code",
   "execution_count": 12,
   "metadata": {},
   "outputs": [
    {
     "data": {
      "text/plain": [
       "{45: ('Waterloo', 15), 27: ('Waterloo', 20), 32: ('Cambridge', 22)}"
      ]
     },
     "execution_count": 12,
     "metadata": {},
     "output_type": "execute_result"
    }
   ],
   "source": [
    "obj.checkOutTimes"
   ]
  },
  {
   "cell_type": "code",
   "execution_count": 13,
   "metadata": {},
   "outputs": [
    {
     "data": {
      "text/plain": [
       "{45: ('Leyton', 3),\n",
       " 32: ('Paradise', 8),\n",
       " 27: ('Leyton', 10),\n",
       " 10: ('Leyton', 24)}"
      ]
     },
     "execution_count": 13,
     "metadata": {},
     "output_type": "execute_result"
    }
   ],
   "source": [
    "obj.checkIn(10, \"Leyton\", 24);\n",
    "obj.checkInTimes"
   ]
  },
  {
   "cell_type": "code",
   "execution_count": 14,
   "metadata": {},
   "outputs": [
    {
     "name": "stdout",
     "output_type": "stream",
     "text": [
      "Start time for customer 45 from startStation Leyton = 3\n",
      "End time for customer 45 from endStation Waterloo = 15\n",
      "timeTaken = 12\n",
      "[12]\n",
      "Start time for customer 27 from startStation Leyton = 10\n",
      "End time for customer 27 from endStation Waterloo = 20\n",
      "timeTaken = 10\n",
      "[12, 10]\n",
      "Start time for customer 10 from startStation Leyton = 24\n",
      "Commute Times between Leyton and Waterloo are:\n",
      "[12, 10]\n",
      "11.0\n"
     ]
    }
   ],
   "source": [
    "print(obj.getAverageTime(\"Leyton\", \"Waterloo\"))"
   ]
  }
 ],
 "metadata": {
  "kernelspec": {
   "display_name": "Python 3",
   "language": "python",
   "name": "python3"
  },
  "language_info": {
   "codemirror_mode": {
    "name": "ipython",
    "version": 3
   },
   "file_extension": ".py",
   "mimetype": "text/x-python",
   "name": "python",
   "nbconvert_exporter": "python",
   "pygments_lexer": "ipython3",
   "version": "3.7.3"
  }
 },
 "nbformat": 4,
 "nbformat_minor": 2
}
